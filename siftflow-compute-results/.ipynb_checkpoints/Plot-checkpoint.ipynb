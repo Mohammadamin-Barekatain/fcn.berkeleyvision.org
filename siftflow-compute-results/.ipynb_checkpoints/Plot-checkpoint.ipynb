{
 "cells": [
  {
   "cell_type": "code",
   "execution_count": 2,
   "metadata": {
    "collapsed": false
   },
   "outputs": [],
   "source": [
    "%matplotlib inline\n",
    "import string\n",
    "import os\n",
    "import matplotlib.pyplot as plt\n",
    "import numpy as np\n",
    "import sys\n",
    "from PIL import Image\n",
    "import six.moves.cPickle as pickle\n",
    "from operator import itemgetter, attrgetter\n",
    "ITER_TAG = \"Iteration\"\n",
    "TST_TAG_LIST = [\"overall accuracy\", \"mean accuracy\", \"mean IU\", \"fwavacc\", \"per-class IU\", 'loss']"
   ]
  },
  {
   "cell_type": "code",
   "execution_count": null,
   "metadata": {
    "collapsed": false
   },
   "outputs": [],
   "source": [
    "def movingaverage(interval, window_size):\n",
    "    window= np.ones(int(window_size))/float(window_size)\n",
    "    return np.convolve(interval, window, 'same')\n",
    "\n",
    "def draw(x, y, xlabel='Iterations', ylabel='', moving_average_window = 1, ylim=[], xlim=[], save=False, model=\"\", sci=False):\n",
    "    y_avg = movingaverage(y, moving_average_window)\n",
    "    \n",
    "    plt.rcParams['figure.figsize'] = (20.0, 16.0)\n",
    "    if len(ylim)==2:\n",
    "        plt.gca().set_ylim(ylim)\n",
    "    if len(xlim)==2:\n",
    "        plt.gca().set_xlim(xlim)\n",
    "    plt.plot(x,y_avg)\n",
    "    plt.xlabel(xlabel, fontsize=20)\n",
    "    plt.ylabel(ylabel, fontsize=20)\n",
    "    plt.tick_params(axis='both', which='major', labelsize=15)\n",
    "    if sci:\n",
    "        plt.ticklabel_format(style='sci', axis='y', scilimits=(0,0))\n",
    "    if save:\n",
    "        plt.savefig(\"plot/\"+model+\"-\"+ylabel+\".pdf\")\n",
    "    plt.show()"
   ]
  },
  {
   "cell_type": "code",
   "execution_count": null,
   "metadata": {
    "collapsed": false,
    "scrolled": true
   },
   "outputs": [],
   "source": [
    "model = 'fcn8s-distilled' # Set Model Name, should be same as folder name\n",
    "weight_folder = 'log1' # Set The Snapshot Folder\n",
    "\n",
    "model_path = '../siftflow-' + model+ '/'+ weight_folder + '/'\n",
    "Log = model_path + \"training-info.log\"\n",
    "\n",
    "def find_loss(splt):\n",
    "    splt = line.split(' ')\n",
    "    ind = splt.index(\"=\") + 1\n",
    "    return float(splt[ind])\n",
    "\n",
    "loss = {\"sem\":[],\"geo\":[], \"overall\":[]}\n",
    "with open(Log,\"r\") as infile:\n",
    "    for line in infile:\n",
    "        splt = line.split(' ')\n",
    "        if ITER_TAG in splt and \"=\" in splt and (not \"lr\" in splt):\n",
    "            ind = splt.index(ITER_TAG)\n",
    "            itr_string = splt[ind+1]\n",
    "            if itr_string[-1] != \",\":\n",
    "                print \"Something is Wrong\", line\n",
    "                break\n",
    "            itr = int(itr_string[:-1])\n",
    "            loss[\"overall\"].append( (itr, find_loss(line) ) )\n",
    "            loss[\"sem\"].append( (itr, find_loss(next(infile)) ) )\n",
    "            loss[\"geo\"].append( (itr, find_loss(next(infile)) ) )"
   ]
  },
  {
   "cell_type": "code",
   "execution_count": null,
   "metadata": {
    "collapsed": false
   },
   "outputs": [],
   "source": [
    "#draw(*zip(*loss[\"overall\"]), ylabel=\"Training loss overall\", ylim = [1000,100000], xlim=[0,200000], save=False,model=model)\n",
    "draw(*zip(*loss[\"overall\"]), ylabel=\"Training loss overall\",ylim = [0,5e6], save=False, model=model, sci=True)\n",
    "\n",
    "#draw(*zip(*loss[\"sem\"]), ylabel=\"Training loss sem\", ylim = [1000,100000], xlim=[0,200000], save=False,model=model)\n",
    "#draw(*zip(*loss[\"geo\"]), ylabel=\"Training loss geo\", ylim = [1000,100000], xlim=[0,200000], save=False,model=model)"
   ]
  },
  {
   "cell_type": "code",
   "execution_count": null,
   "metadata": {
    "collapsed": false
   },
   "outputs": [],
   "source": [
    "def find_best(sem, geo):\n",
    "    sorted_lst = sorted(sem, key=lambda model: model[\"mean IU\"], reverse=True)\n",
    "    sem_model = sorted_lst[0]\n",
    "    itr = sem_model[\"Iteration\"]\n",
    "    geo_model = [x for x in geo if x[\"Iteration\"]==itr][0]\n",
    "    print \"Best Model is at iteration:\", itr\n",
    "    return sem_model,geo_model\n",
    "\n",
    "def model_plot(sem, geo, save, model):\n",
    "    iters = [ x[\"Iteration\"] for x in sem ]\n",
    "    mean_IU = [ y[\"mean IU\"] for y in sem ]\n",
    "    ove_acc_sem = [ y[\"overall accuracy\"] for y in sem ]\n",
    "    ove_acc_geo = [ y[\"overall accuracy\"] for y in geo ]\n",
    "\n",
    "    draw(iters,mean_IU, ylabel=\"Mean IU (%)\", ylim =  [0.20,0.4], xlim=[0,200000], save=save, model=model)\n",
    "    draw(iters,ove_acc_sem, ylabel=\"semantic pixel acc.\", ylim =  [0.8,0.9], xlim=[0,200000], save=save, model=model)\n",
    "    draw(iters,ove_acc_geo, ylabel=\"geometric pixel acc.\", ylim =  [0.9,.95], xlim=[0,200000], save=save, model=model)\n",
    "\n",
    "def load_class_names():\n",
    "    sem_names = []\n",
    "    with open(\"../data/sift-flow/classes.txt\",\"r\") as f:\n",
    "        for _ in xrange(4):\n",
    "            next(f)\n",
    "        for _ in xrange(1,34):\n",
    "            sem_names.append(next(f).split(' ')[1][:-1])\n",
    "    return sem_names\n",
    "def write_PerClassIU(sem_names, IU_list, model):\n",
    "    with open(\"Per-ClassIU.txt\",\"a\") as f:\n",
    "        f.write(\"===============\\n\"+model+\"\\n\")\n",
    "        lst = []\n",
    "        for i, name in enumerate(sem_names):\n",
    "            lst.append( (name, IU_list[i]) ) \n",
    "        for line in sorted(lst, key = itemgetter(1) , reverse=True):\n",
    "            if  not (line[0] in [\"cow\", \"desert\", \"moon\"] ):\n",
    "                f.write(line[0] + \" \")\n",
    "                f.write(\"%2.1f\\n\" % (line[1] * 100) )\n",
    "        "
   ]
  },
  {
   "cell_type": "code",
   "execution_count": null,
   "metadata": {
    "collapsed": false
   },
   "outputs": [],
   "source": [
    "models = ['fcn8s-distilled','distilled','fcnResNet152','fcn16s','fcn32s','fcn8s','fcnResNet101','fcnResNet50']\n",
    "weights = ['log1','log1','log2-ImageNet','','','','log1-ImageNet','log1-ImageNet']\n",
    "\n",
    "sem_names = load_class_names()\n",
    "\n",
    "for model, weight in zip(models, weights):\n",
    "    print \"====================\"\n",
    "    print 'Model Name:', model\n",
    "    sem = pickle.load(open(model + '-' + weight + '-sem.pkl'))\n",
    "    geo = pickle.load(open(model + '-' + weight + '-geo.pkl'))\n",
    "    best_model = find_best(sem, geo)\n",
    "    for tag in TST_TAG_LIST:\n",
    "        if tag != \"loss\" and tag != \"per-class IU\":\n",
    "            print tag + \": %2.1f\" % (best_model[0][tag]*100)\n",
    "#    print sem\n",
    "#    write_PerClassIU(sem_names, best_model[0][\"per-class IU\"], model)\n",
    "    \n",
    "    print \"geom. acc. : %2.1f\" % (best_model[1][\"overall accuracy\"]*100)\n",
    "#    model_plot(sem, geo, False, model)\n",
    "    "
   ]
  },
  {
   "cell_type": "code",
   "execution_count": null,
   "metadata": {
    "collapsed": false
   },
   "outputs": [],
   "source": [
    "print \"====================\"\n",
    "model = \"fcn8s-distilled\"\n",
    "weight = 'log1'\n",
    "print 'Model Name:', model\n",
    "sem = pickle.load(open(model + '-' + weight + '-sem.pkl'))\n",
    "geo = pickle.load(open(model + '-' + weight + '-geo.pkl'))\n",
    "sorted_lst = sorted(sem, key=lambda model: model[\"mean IU\"], reverse=True)\n",
    "for i in xrange(20):\n",
    "    sem_model = sorted_lst[i]\n",
    "    itr = sem_model[\"Iteration\"]\n",
    "    geo_model = [x for x in geo if x[\"Iteration\"]==itr][0]\n",
    "    print \"Best Model is at iteration:\", itr\n",
    "    for tag in TST_TAG_LIST:\n",
    "        if tag != \"loss\" and tag != \"per-class IU\":\n",
    "            print tag + \": %2.1f\" % (sem_model[tag]*100)\n",
    "#    print sem\n",
    "#    write_PerClassIU(sem_names, best_model[0][\"per-class IU\"], model)\n",
    "    \n",
    "    print \"geom. acc. : %2.1f\" % (geo_model[\"overall accuracy\"]*100)\n",
    "    print \"===\"\n",
    "#    model_plot(sem, geo, False, model)"
   ]
  },
  {
   "cell_type": "code",
   "execution_count": 3,
   "metadata": {
    "collapsed": false
   },
   "outputs": [
    {
     "ename": "IOError",
     "evalue": "[Errno 2] No such file or directory: 'distilled-log1-ep169-sem.pkl'",
     "output_type": "error",
     "traceback": [
      "\u001b[0;31m---------------------------------------------------------------------------\u001b[0m",
      "\u001b[0;31mIOError\u001b[0m                                   Traceback (most recent call last)",
      "\u001b[0;32m<ipython-input-3-62eef0770fdb>\u001b[0m in \u001b[0;36m<module>\u001b[0;34m()\u001b[0m\n\u001b[0;32m----> 1\u001b[0;31m \u001b[0msem1\u001b[0m \u001b[0;34m=\u001b[0m \u001b[0mpickle\u001b[0m\u001b[0;34m.\u001b[0m\u001b[0mload\u001b[0m\u001b[0;34m(\u001b[0m\u001b[0mopen\u001b[0m\u001b[0;34m(\u001b[0m\u001b[0;34m'distilled-log1-ep169-sem.pkl'\u001b[0m\u001b[0;34m)\u001b[0m\u001b[0;34m)\u001b[0m\u001b[0;34m\u001b[0m\u001b[0m\n\u001b[0m\u001b[1;32m      2\u001b[0m \u001b[0msem2\u001b[0m \u001b[0;34m=\u001b[0m \u001b[0mpickle\u001b[0m\u001b[0;34m.\u001b[0m\u001b[0mload\u001b[0m\u001b[0;34m(\u001b[0m\u001b[0mopen\u001b[0m\u001b[0;34m(\u001b[0m\u001b[0;34m'distilled-log1-ep100-sem.pkl'\u001b[0m\u001b[0;34m)\u001b[0m\u001b[0;34m)\u001b[0m\u001b[0;34m\u001b[0m\u001b[0m\n\u001b[1;32m      3\u001b[0m \u001b[0msem\u001b[0m \u001b[0;34m=\u001b[0m \u001b[0msem1\u001b[0m\u001b[0;34m+\u001b[0m \u001b[0msem2\u001b[0m\u001b[0;34m\u001b[0m\u001b[0m\n\u001b[1;32m      4\u001b[0m \u001b[0;32mprint\u001b[0m \u001b[0msem\u001b[0m\u001b[0;34m[\u001b[0m\u001b[0;34m:\u001b[0m\u001b[0;34m-\u001b[0m\u001b[0;36m5\u001b[0m\u001b[0;34m]\u001b[0m\u001b[0;34m\u001b[0m\u001b[0m\n",
      "\u001b[0;31mIOError\u001b[0m: [Errno 2] No such file or directory: 'distilled-log1-ep169-sem.pkl'"
     ]
    }
   ],
   "source": [
    "sem1 = pickle.load(open('fcn8s-distilled-log1-ep169-sem.pkl'))\n",
    "sem2 = pickle.load(open('fcn8s-distilled-log1-ep100-sem.pkl'))\n",
    "sem = sem1+ sem2\n",
    "print sem[:-5]\n"
   ]
  },
  {
   "cell_type": "markdown",
   "metadata": {
    "collapsed": true
   },
   "source": []
  }
 ],
 "metadata": {
  "anaconda-cloud": {},
  "kernelspec": {
   "display_name": "Python 2",
   "language": "python",
   "name": "python2"
  },
  "language_info": {
   "codemirror_mode": {
    "name": "ipython",
    "version": 2
   },
   "file_extension": ".py",
   "mimetype": "text/x-python",
   "name": "python",
   "nbconvert_exporter": "python",
   "pygments_lexer": "ipython2",
   "version": "2.7.6"
  }
 },
 "nbformat": 4,
 "nbformat_minor": 1
}
