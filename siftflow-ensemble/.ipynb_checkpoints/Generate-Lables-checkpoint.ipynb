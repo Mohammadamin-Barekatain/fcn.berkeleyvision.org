{
 "cells": [
  {
   "cell_type": "code",
   "execution_count": null,
   "metadata": {
    "collapsed": false
   },
   "outputs": [],
   "source": [
    "from __future__ import division\n",
    "import string\n",
    "import os\n",
    "import numpy as np\n",
    "import caffe\n",
    "import surgery\n",
    "import os\n",
    "import sys\n",
    "import caffe\n",
    "from datetime import datetime\n",
    "from PIL import Image\n",
    "from operator import itemgetter, attrgetter\n",
    "import scipy.io as sio\n",
    "\n",
    "GPU = 1 # Set GPU Device\n",
    "\n",
    "target = \"trainval\"\n",
    "models = ['fcn8s','fcn16s', 'fcn32s' ,'fcnResNet152', 'fcnResNet101','fcnResNet50'] # Set Models Name, should be same as folder name\n",
    "\n",
    "n_models = len(models)\n",
    "TST_TAG_LIST = [\"overall accuracy\", \"mean accuracy\", \"mean IU\", \"fwavacc\", \"per-class IU\", 'loss']"
   ]
  },
  {
   "cell_type": "code",
   "execution_count": null,
   "metadata": {
    "collapsed": false
   },
   "outputs": [],
   "source": [
    "def comp_score(solver, dataset, layer='score'):\n",
    "    solver.test_nets[0].share_with(solver.net)\n",
    "    net = solver.test_nets[0]\n",
    "    n_cl = net.blobs[layer].channels\n",
    "    for ind,name in enumerate(dataset):\n",
    "        print \"image %d/%d\"%(ind,len(dataset))\n",
    "        net.forward()\n",
    "        score = net.blobs[layer].data[0]\n",
    "        temp = sio.loadmat('octave_cells.mat')\n",
    "\n",
    "\n",
    "def setup(model):\n",
    "    with open('solver.prototxt') as f:\n",
    "        with open('temp','w') as w:\n",
    "            w.write('train_net: \\''+model+'-trainval.prototxt\\'\\n')\n",
    "            w.write('test_net: \\'' +model+ '-'+target+'.prototxt\\'\\n')\n",
    "            flag = True\n",
    "            for line in f:\n",
    "                if flag:\n",
    "                    next(f)\n",
    "                    flag = False\n",
    "                    continue\n",
    "                w.write(line)\n",
    "\n",
    "    os.system('mv temp solver.prototxt')\n",
    "                "
   ]
  },
  {
   "cell_type": "code",
   "execution_count": null,
   "metadata": {
    "collapsed": false
   },
   "outputs": [],
   "source": [
    "try:\n",
    "    import setproctitle\n",
    "    setproctitle.setproctitle(os.path.basename(os.getcwd()))\n",
    "except:\n",
    "    pass\n",
    "\n",
    "# init\n",
    "caffe.set_device(GPU)\n",
    "caffe.set_mode_gpu()\n",
    "# scoring\n",
    "test = np.loadtxt('../data/sift-flow/'+target+'.txt', dtype=str)\n",
    "\n",
    "for name in data:\n",
    "    sio.savemat('score_sem/' +name+ '.mat', {'S':np.zeros((len(test), 33, 256, 256))})\n",
    "    sio.savemat('score_geo/' +name+ '.mat', {'S':np.zeros((len(test), 3, 256, 256))})\n",
    "    \n",
    "for model in models:\n",
    "    print datetime.now(), \"Running model: \", model\n",
    "    model_path = '../siftflow-' + model + '/'\n",
    "    setup(model)\n",
    "    weights = model_path + '_iter_2500'+'.caffemodel'\n",
    "    solver = caffe.SGDSolver('solver.prototxt')\n",
    "    solver.net.copy_from(weights)\n",
    "    # surgeries\n",
    "    interp_layers = [k for k in solver.net.params.keys() if 'up' in k]\n",
    "    surgery.interp(solver.net, interp_layers)\n",
    "        \n",
    "    comp_score(solver, test, layer='score_sem')\n",
    "    comp_score(solver, test, layer='score_geo')\n",
    "       \n",
    "    for idx,name in enumerate(test):\n",
    "            sio.savemat('score_sem/' +name+ '.mat', {'S':sem[idx]})\n",
    "            sio.savemat('score_geo/' +name+ '.mat', {'S':geo[idx]})"
   ]
  },
  {
   "cell_type": "code",
   "execution_count": null,
   "metadata": {
    "collapsed": true
   },
   "outputs": [],
   "source": [
    "print \"Final test:\"\n",
    "seg_result = do_seg_tests(scores_sem, False, test, layer='score_sem', gt=gt_sem)\n",
    "geo_result = do_seg_tests(scores_geo, False, test, layer='score_geo', gt=gt_geo)\n",
    "\n",
    "\n",
    "with open('Ensemble-'+target+'-sem.pkl', 'wb') as f:\n",
    "    pickle.dump(seg_result, f)\n",
    "with open('Ensemble-'+target+'-geo.pkl', 'wb') as f:\n",
    "    pickle.dump(geo_result, f)"
   ]
  }
 ],
 "metadata": {
  "kernelspec": {
   "display_name": "Python 2",
   "language": "python",
   "name": "python2"
  },
  "language_info": {
   "codemirror_mode": {
    "name": "ipython",
    "version": 2
   },
   "file_extension": ".py",
   "mimetype": "text/x-python",
   "name": "python",
   "nbconvert_exporter": "python",
   "pygments_lexer": "ipython2",
   "version": "2.7.6"
  }
 },
 "nbformat": 4,
 "nbformat_minor": 2
}
