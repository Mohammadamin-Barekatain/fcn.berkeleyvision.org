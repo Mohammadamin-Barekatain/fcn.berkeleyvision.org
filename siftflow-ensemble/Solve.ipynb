{
 "cells": [
  {
   "cell_type": "code",
   "execution_count": 1,
   "metadata": {
    "collapsed": false
   },
   "outputs": [],
   "source": [
    "from __future__ import division\n",
    "import string\n",
    "import os\n",
    "import numpy as np\n",
    "import caffe\n",
    "import surgery\n",
    "import os\n",
    "import sys\n",
    "import caffe\n",
    "from datetime import datetime\n",
    "from PIL import Image\n",
    "import six.moves.cPickle as pickle\n",
    "from operator import itemgetter, attrgetter\n",
    "import scipy.io as sio\n",
    "\n",
    "GPU = 1 # Set GPU Device \n",
    "target = \"test\"\n",
    "models = ['fcn8s','fcn16s', 'fcn32s' ,'fcnResNet152', 'fcnResNet101','fcnResNet50'] # Set Models Name, should be same as folder name\n",
    "\n",
    "TST_TAG_LIST = [\"overall accuracy\", \"mean accuracy\", \"mean IU\", \"fwavacc\", \"per-class IU\", 'loss']"
   ]
  },
  {
   "cell_type": "code",
   "execution_count": 2,
   "metadata": {
    "collapsed": false
   },
   "outputs": [],
   "source": [
    "def fast_hist(a, b, n):\n",
    "    k = (a >= 0) & (a < n)\n",
    "    return np.bincount(n * a[k].astype(int) + b[k], minlength=n**2).reshape(n, n)\n",
    "\n",
    "def compute_hist(scores, save_dir, dataset, layer='score', gt='label'):\n",
    "    n_cl = scores.shape[1]\n",
    "    if save_dir:\n",
    "        os.mkdir(save_dir)\n",
    "    hist = np.zeros((n_cl, n_cl))\n",
    "    for idx,name in enumerate(dataset):\n",
    "        hist += fast_hist(gt[idx].flatten(), scores[idx].argmax(0).flatten(), n_cl)\n",
    "        \n",
    "        if save_dir:\n",
    "            im = Image.fromarray(scores[idx].argmax(0).astype(np.uint8), mode='P')\n",
    "            im.save(os.path.join(save_dir, name + '.png'))\n",
    "\n",
    "    return hist\n",
    "\n",
    "\n",
    "def get_score(solver, dataset, layer='score', gt='label'):\n",
    "    solver.test_nets[0].share_with(solver.net)\n",
    "    net = solver.test_nets[0]\n",
    "    n_cl = net.blobs[layer].channels\n",
    "    score = np.zeros((len(dataset), n_cl, 256, 256))\n",
    "    label = np.zeros((len(dataset), 256, 256))\n",
    "    for idx,_ in enumerate(dataset):\n",
    "        net.forward()\n",
    "        score[idx] = net.blobs[layer].data[0]\n",
    "        label[idx] = net.blobs[gt].data[0, 0]\n",
    "    return score, label\n",
    "\n",
    "\n",
    "def do_seg_tests(scores, save_format, dataset, layer='score', gt='label'):\n",
    "    ret = {x:-1 for x in TST_TAG_LIST}\n",
    "    if save_format:\n",
    "        save_format = save_format.format(2500)\n",
    "    iter = 1\n",
    "    hist = compute_hist(scores, save_format, dataset, layer, gt)\n",
    "    # overall accuracy\n",
    "    acc = np.diag(hist).sum() / hist.sum()\n",
    "    print '>>>', datetime.now(), 'Iteration', iter, 'overall accuracy', acc\n",
    "    ret['overall accuracy'] = acc\n",
    "    # per-class accuracy\n",
    "    acc = np.diag(hist) / hist.sum(1)\n",
    "    print '>>>', datetime.now(), 'Iteration', iter, 'mean accuracy', np.nanmean(acc)\n",
    "    ret['mean accuracy'] = np.nanmean(acc)\n",
    "    #per-class IU\n",
    "    iu = np.diag(hist) / (hist.sum(1) + hist.sum(0) - np.diag(hist))\n",
    "    print '>>>', datetime.now(), 'Iteration', iter, 'mean IU', np.nanmean(iu)\n",
    "    ret['mean IU'] = np.nanmean(iu)\n",
    "    #IU per class\n",
    "    print 'Iteration', iter, 'per-class IU', iu\n",
    "    ret['per-class IU'] = iu\n",
    "    freq = hist.sum(1) / hist.sum()\n",
    "    print '>>>', datetime.now(), 'Iteration', iter, 'fwavacc', (freq[freq > 0] * iu[freq > 0]).sum()\n",
    "    ret['fwavacc'] = (freq[freq > 0] * iu[freq > 0]).sum()\n",
    "    return ret\n",
    "    \n",
    "def setup(model):\n",
    "    with open('solver.prototxt') as f:\n",
    "        with open('temp','w') as w:\n",
    "            w.write('train_net: \\''+model+'-trainval.prototxt\\'\\n')\n",
    "            w.write('test_net: \\'' +model+ '-'+target+'.prototxt\\'\\n')\n",
    "            flag = True\n",
    "            for line in f:\n",
    "                if flag:\n",
    "                    next(f)\n",
    "                    flag = False\n",
    "                    continue\n",
    "                w.write(line)\n",
    "\n",
    "    os.system('mv temp solver.prototxt')\n",
    "    \n",
    "def load_class_names():\n",
    "    sem_names = []\n",
    "    with open(\"../data/sift-flow/classes.txt\",\"r\") as f:\n",
    "        for _ in xrange(4):\n",
    "            next(f)\n",
    "        for _ in xrange(1,34):\n",
    "            sem_names.append(next(f).split(' ')[1][:-1])\n",
    "    return sem_names\n",
    "\n",
    "def write_PerClassIU(IU_list, model):\n",
    "    sem_names = load_class_names()\n",
    "    with open(\"Per-ClassIU.txt\",\"a\") as f:\n",
    "        f.write(\"===============\\n\"+model+\"\\n\")\n",
    "        lst = []\n",
    "        for i, name in enumerate(sem_names):\n",
    "            lst.append( (name, IU_list[i]) ) \n",
    "        for line in sorted(lst, key = itemgetter(1) , reverse=True):\n",
    "            if  not (line[0] in [\"cow\", \"desert\", \"moon\"] ):\n",
    "                f.write(line[0] + \" \")\n",
    "                f.write(\"%2.1f\\n\" % (line[1] * 100) )\n",
    "                "
   ]
  },
  {
   "cell_type": "code",
   "execution_count": 3,
   "metadata": {
    "collapsed": false
   },
   "outputs": [
    {
     "name": "stdout",
     "output_type": "stream",
     "text": [
      "2017-02-09 17:53:06.329800 Running model:  fcn8s\n",
      "2017-02-09 17:55:07.223418 Running model:  fcn16s\n",
      "2017-02-09 17:57:05.634764 Running model:  fcn32s\n",
      "2017-02-09 17:59:28.410564 Running model:  fcnResNet152\n",
      "2017-02-09 18:01:59.467504 Running model:  fcnResNet101\n",
      "2017-02-09 18:04:01.315771 Running model:  fcnResNet50\n",
      "Final test:\n",
      ">>> 2017-02-09 18:05:39.038652 Iteration 1 overall accuracy 0.868923941469\n",
      ">>> 2017-02-09 18:05:39.051963 Iteration 1 mean accuracy 0.49814840777\n",
      ">>> 2017-02-09 18:05:39.059751 Iteration 1 mean IU 0.391359234622\n",
      "Iteration 1 per-class IU [  1.39330051e-01   0.00000000e+00   0.00000000e+00   2.43398393e-01\n",
      "   2.01675546e-01   8.47635144e-01   0.00000000e+00   7.03474794e-01\n",
      "   0.00000000e+00   3.39795036e-01   0.00000000e+00   2.99138265e-01\n",
      "   3.38288900e-01   4.84292123e-01   3.92496150e-01              nan\n",
      "   7.92358954e-01   2.17093293e-01   1.68990071e-01   0.00000000e+00\n",
      "   6.25658164e-01   8.52908289e-01   2.30503744e-01   5.67965833e-01\n",
      "   7.82390566e-01   5.19678121e-01   3.06972962e-01   9.33875339e-01\n",
      "   6.81818182e-01   6.74081564e-04   8.32501782e-01   7.09878418e-01\n",
      "   3.10703307e-01]\n",
      ">>> 2017-02-09 18:05:39.067306 Iteration 1 fwavacc 0.782576187253\n"
     ]
    },
    {
     "name": "stderr",
     "output_type": "stream",
     "text": [
      "/usr/local/lib/python2.7/dist-packages/ipykernel/__main__.py:44: RuntimeWarning: invalid value encountered in true_divide\n",
      "/usr/local/lib/python2.7/dist-packages/ipykernel/__main__.py:48: RuntimeWarning: invalid value encountered in true_divide\n"
     ]
    },
    {
     "name": "stdout",
     "output_type": "stream",
     "text": [
      ">>> 2017-02-09 18:05:39.562280 Iteration 1 overall accuracy 0.9510228962\n",
      ">>> 2017-02-09 18:05:39.563886 Iteration 1 mean accuracy 0.950982079204\n",
      ">>> 2017-02-09 18:05:39.565048 Iteration 1 mean IU 0.90264804309\n",
      "Iteration 1 per-class IU [ 0.93406579  0.86313651  0.91074183]\n",
      ">>> 2017-02-09 18:05:39.566147 Iteration 1 fwavacc 0.907004203949\n"
     ]
    }
   ],
   "source": [
    "try:\n",
    "    import setproctitle\n",
    "    setproctitle.setproctitle(os.path.basename(os.getcwd()))\n",
    "except:\n",
    "    pass\n",
    "\n",
    "# init\n",
    "caffe.set_device(GPU)\n",
    "caffe.set_mode_gpu()\n",
    "# scoring\n",
    "test = np.loadtxt('../data/sift-flow/'+target+'.txt', dtype=str)\n",
    "\n",
    "scores_sem = np.zeros((len(test), 33, 256, 256))\n",
    "scores_geo = np.zeros((len(test), 3, 256, 256))\n",
    "\n",
    "for model in models:\n",
    "    print datetime.now(), \"Running model: \", model\n",
    "    model_path = '../siftflow-' + model + '/'\n",
    "    setup(model)\n",
    "    weights = model_path + '_iter_2500'+'.caffemodel'\n",
    "    solver = caffe.SGDSolver('solver.prototxt')\n",
    "    solver.net.copy_from(weights)\n",
    "    # surgeries\n",
    "    interp_layers = [k for k in solver.net.params.keys() if 'up' in k]\n",
    "    surgery.interp(solver.net, interp_layers)\n",
    "    \n",
    "    sem, gt_sem = get_score(solver, test, layer='score_sem', gt='sem')\n",
    "    geo, gt_geo = get_score(solver, test, layer='score_geo', gt='geo')\n",
    "    \n",
    "    scores_sem += sem\n",
    "    scores_geo += geo\n",
    "\n",
    "scores_sem = scores_sem / (1.0 * len(models))\n",
    "scores_geo = scores_geo / (1.0 * len(models))    \n",
    "print \"Final test:\"\n",
    "seg_result = do_seg_tests(scores_sem, False, test, layer='score_sem', gt=gt_sem)\n",
    "geo_result = do_seg_tests(scores_geo, False, test, layer='score_geo', gt=gt_geo)\n",
    "\n",
    "\n",
    "with open('Ensemble-'+target+'-sem.pkl', 'wb') as f:\n",
    "    pickle.dump(seg_result, f)\n",
    "with open('Ensemble-'+target+'-geo.pkl', 'wb') as f:\n",
    "    pickle.dump(geo_result, f)\n"
   ]
  },
  {
   "cell_type": "code",
   "execution_count": null,
   "metadata": {
    "collapsed": false
   },
   "outputs": [],
   "source": [
    "#write_PerClassIU(seg_result[\"per-class IU\"], \"Ensemble\")\n",
    "for tag in TST_TAG_LIST:\n",
    "        if tag != \"loss\" and tag != \"per-class IU\":\n",
    "            print tag + \": %2.1f\" % (seg_result[tag]*100)\n",
    "print \"geom. acc. : %2.1f\" % (geo_result[\"overall accuracy\"]*100)"
   ]
  },
  {
   "cell_type": "code",
   "execution_count": 10,
   "metadata": {
    "collapsed": false
   },
   "outputs": [
    {
     "ename": "NameError",
     "evalue": "name 'numpy' is not defined",
     "output_type": "error",
     "traceback": [
      "\u001b[0;31m---------------------------------------------------------------------------\u001b[0m",
      "\u001b[0;31mNameError\u001b[0m                                 Traceback (most recent call last)",
      "\u001b[0;32m<ipython-input-10-6130d98f0a03>\u001b[0m in \u001b[0;36m<module>\u001b[0;34m()\u001b[0m\n\u001b[1;32m      9\u001b[0m     \u001b[0mtemp_geo\u001b[0m\u001b[0;34m[\u001b[0m\u001b[0mind\u001b[0m\u001b[0;34m]\u001b[0m \u001b[0;34m=\u001b[0m \u001b[0mabs\u001b[0m\u001b[0;34m(\u001b[0m\u001b[0mscores_geo\u001b[0m\u001b[0;34m[\u001b[0m\u001b[0mind\u001b[0m\u001b[0;34m]\u001b[0m \u001b[0;34m-\u001b[0m \u001b[0mscore\u001b[0m\u001b[0;34m)\u001b[0m\u001b[0;34m\u001b[0m\u001b[0m\n\u001b[1;32m     10\u001b[0m \u001b[0;34m\u001b[0m\u001b[0m\n\u001b[0;32m---> 11\u001b[0;31m \u001b[0;32mprint\u001b[0m \u001b[0mnumpy\u001b[0m\u001b[0;34m.\u001b[0m\u001b[0many\u001b[0m\u001b[0;34m(\u001b[0m\u001b[0mtemp_sem\u001b[0m\u001b[0;34m>\u001b[0m\u001b[0;36m0.1\u001b[0m\u001b[0;34m)\u001b[0m\u001b[0;34m\u001b[0m\u001b[0m\n\u001b[0m\u001b[1;32m     12\u001b[0m \u001b[0;32mprint\u001b[0m \u001b[0mnumpy\u001b[0m\u001b[0;34m.\u001b[0m\u001b[0many\u001b[0m\u001b[0;34m(\u001b[0m\u001b[0mtemp_geo\u001b[0m\u001b[0;34m>\u001b[0m\u001b[0;36m0.1\u001b[0m\u001b[0;34m)\u001b[0m\u001b[0;34m\u001b[0m\u001b[0m\n",
      "\u001b[0;31mNameError\u001b[0m: name 'numpy' is not defined"
     ]
    }
   ],
   "source": [
    "PATH_TO_sem = \"../siftflow-ensemble/score_sem/\"\n",
    "PATH_TO_geo = \"../siftflow-ensemble/score_geo/\"\n",
    "temp_sem = np.zeros((len(test), 33, 256, 256))\n",
    "temp_geo = np.zeros((len(test), 3, 256, 256))\n",
    "for ind,name in enumerate(test):\n",
    "    score = sio.loadmat(PATH_TO_sem + name +'.mat')['S']\n",
    "    temp_sem[ind] = abs(scores_sem[ind] - score)\n",
    "    score = sio.loadmat(PATH_TO_geo + name +'.mat')['S']\n",
    "    temp_geo[ind] = abs(scores_geo[ind] - score)\n",
    "    \n",
    "print numpy.any(temp_sem>0.1)\n",
    "print numpy.any(temp_geo>0.1)"
   ]
  }
 ],
 "metadata": {
  "kernelspec": {
   "display_name": "Python 2",
   "language": "python",
   "name": "python2"
  },
  "language_info": {
   "codemirror_mode": {
    "name": "ipython",
    "version": 2
   },
   "file_extension": ".py",
   "mimetype": "text/x-python",
   "name": "python",
   "nbconvert_exporter": "python",
   "pygments_lexer": "ipython2",
   "version": "2.7.6"
  }
 },
 "nbformat": 4,
 "nbformat_minor": 2
}
