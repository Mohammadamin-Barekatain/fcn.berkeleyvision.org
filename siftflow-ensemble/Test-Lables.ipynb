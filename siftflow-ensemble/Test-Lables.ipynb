{
 "cells": [
  {
   "cell_type": "code",
   "execution_count": 11,
   "metadata": {
    "collapsed": false
   },
   "outputs": [],
   "source": [
    "from __future__ import division\n",
    "import string\n",
    "import os\n",
    "import numpy as np\n",
    "import caffe\n",
    "import surgery\n",
    "import os\n",
    "import sys\n",
    "import caffe\n",
    "from datetime import datetime\n",
    "from PIL import Image\n",
    "import six.moves.cPickle as pickle\n",
    "from operator import itemgetter, attrgetter\n",
    "import scipy.io as sio\n",
    "\n",
    "\n",
    "target = \"trainval\"\n",
    "PATH_TO_OUTPUTS = \"../siftflow-ensemble/\"\n",
    "\n",
    "if target == \"trainval\":\n",
    "   PATH_TO_OUTPUTS = \"../siftflow-distilled/\"\n",
    "else:\n",
    "   PATH_TO_OUTPUTS = \"../siftflow-ensemble/\"\n",
    "\n",
    "    \n",
    "TST_TAG_LIST = [\"overall accuracy\", \"mean accuracy\", \"mean IU\", \"fwavacc\", \"per-class IU\", 'loss']\n",
    "PATH_TO_SEM_LABELS = '../data/sift-flow/SemanticLabels/spatial_envelope_256x256_static_8outdoorcategories/'\n",
    "PATH_TO_GEO_LABELS = '../data/sift-flow/GeoLabels/spatial_envelope_256x256_static_8outdoorcategories/'\n"
   ]
  },
  {
   "cell_type": "code",
   "execution_count": 9,
   "metadata": {
    "collapsed": false
   },
   "outputs": [],
   "source": [
    "def fast_hist(a, b, n):\n",
    "    k = (a >= 0) & (a < n)\n",
    "    return np.bincount(n * a[k].astype(int) + b[k], minlength=n**2).reshape(n, n)\n",
    "\n",
    "def compute_hist(dataset, layer, n_cl):\n",
    "    hist = np.zeros((n_cl, n_cl))\n",
    "    for idx,name in enumerate(dataset):\n",
    "        score = sio.loadmat(PATH_TO_OUTPUTS+'/'+ layer + '/' + name+'.mat')['S']\n",
    "        if layer == 'score_sem':\n",
    "            label = sio.loadmat(PATH_TO_SEM_LABELS + name +'.mat')['S']\n",
    "        else:\n",
    "            label = sio.loadmat(PATH_TO_GEO_LABELS + name +'.mat')['S']\n",
    "        \n",
    "        label = label.astype(np.uint8)\n",
    "        label -= 1  # rotate labels so classes start at 0, void is 255    \n",
    "        hist += fast_hist(label.flatten(), score.argmax(0).flatten(), n_cl)\n",
    "    return hist\n",
    "\n",
    "def do_seg_tests(dataset, layer, n_cl):\n",
    "    ret = {x:-1 for x in TST_TAG_LIST}\n",
    "    iter = 1\n",
    "    hist = compute_hist(dataset, layer, n_cl)\n",
    "    # overall accuracy\n",
    "    acc = np.diag(hist).sum() / hist.sum()\n",
    "    print '>>>', datetime.now(), 'Iteration', iter, 'overall accuracy', acc\n",
    "    ret['overall accuracy'] = acc\n",
    "    # per-class accuracy\n",
    "    acc = np.diag(hist) / hist.sum(1)\n",
    "    print '>>>', datetime.now(), 'Iteration', iter, 'mean accuracy', np.nanmean(acc)\n",
    "    ret['mean accuracy'] = np.nanmean(acc)\n",
    "    #per-class IU\n",
    "    iu = np.diag(hist) / (hist.sum(1) + hist.sum(0) - np.diag(hist))\n",
    "    print '>>>', datetime.now(), 'Iteration', iter, 'mean IU', np.nanmean(iu)\n",
    "    ret['mean IU'] = np.nanmean(iu)\n",
    "    #IU per class\n",
    "    print 'Iteration', iter, 'per-class IU', iu\n",
    "    ret['per-class IU'] = iu\n",
    "    freq = hist.sum(1) / hist.sum()\n",
    "    print '>>>', datetime.now(), 'Iteration', iter, 'fwavacc', (freq[freq > 0] * iu[freq > 0]).sum()\n",
    "    ret['fwavacc'] = (freq[freq > 0] * iu[freq > 0]).sum()\n",
    "    return ret\n",
    "    "
   ]
  },
  {
   "cell_type": "code",
   "execution_count": 10,
   "metadata": {
    "collapsed": false
   },
   "outputs": [
    {
     "name": "stdout",
     "output_type": "stream",
     "text": [
      "2017-02-09 20:30:19.310466 Running ...\n",
      ">>> 2017-02-09 20:31:01.621571 Iteration 1 overall accuracy 0.868923941469\n",
      ">>> 2017-02-09 20:31:01.636999 Iteration 1 mean accuracy 0.49814840777\n",
      ">>> 2017-02-09 20:31:01.638483 Iteration 1 mean IU 0.391359234622\n",
      "Iteration 1 per-class IU [  1.39330051e-01   0.00000000e+00   0.00000000e+00   2.43398393e-01\n",
      "   2.01675546e-01   8.47635144e-01   0.00000000e+00   7.03474794e-01\n",
      "   0.00000000e+00   3.39795036e-01   0.00000000e+00   2.99138265e-01\n",
      "   3.38288900e-01   4.84292123e-01   3.92496150e-01              nan\n",
      "   7.92358954e-01   2.17093293e-01   1.68990071e-01   0.00000000e+00\n",
      "   6.25658164e-01   8.52908289e-01   2.30503744e-01   5.67965833e-01\n",
      "   7.82390566e-01   5.19678121e-01   3.06972962e-01   9.33875339e-01\n",
      "   6.81818182e-01   6.74081564e-04   8.32501782e-01   7.09878418e-01\n",
      "   3.10703307e-01]\n",
      ">>> 2017-02-09 20:31:01.641319 Iteration 1 fwavacc 0.782576187253\n"
     ]
    },
    {
     "name": "stderr",
     "output_type": "stream",
     "text": [
      "/usr/local/lib/python2.7/dist-packages/ipykernel/__main__.py:28: RuntimeWarning: invalid value encountered in true_divide\n",
      "/usr/local/lib/python2.7/dist-packages/ipykernel/__main__.py:32: RuntimeWarning: invalid value encountered in true_divide\n"
     ]
    },
    {
     "name": "stdout",
     "output_type": "stream",
     "text": [
      ">>> 2017-02-09 20:31:09.934090 Iteration 1 overall accuracy 0.9510228962\n",
      ">>> 2017-02-09 20:31:09.934841 Iteration 1 mean accuracy 0.950982079204\n",
      ">>> 2017-02-09 20:31:09.935764 Iteration 1 mean IU 0.90264804309\n",
      "Iteration 1 per-class IU [ 0.93406579  0.86313651  0.91074183]\n",
      ">>> 2017-02-09 20:31:09.937364 Iteration 1 fwavacc 0.907004203949\n"
     ]
    },
    {
     "data": {
      "text/plain": [
       "{'fwavacc': 0.90700420394934511,\n",
       " 'loss': -1,\n",
       " 'mean IU': 0.90264804308979729,\n",
       " 'mean accuracy': 0.95098207920402011,\n",
       " 'overall accuracy': 0.95102289620002889,\n",
       " 'per-class IU': array([ 0.93406579,  0.86313651,  0.91074183])}"
      ]
     },
     "execution_count": 10,
     "metadata": {},
     "output_type": "execute_result"
    }
   ],
   "source": [
    "try:\n",
    "    import setproctitle\n",
    "    setproctitle.setproctitle(os.path.basename(os.getcwd()))\n",
    "except:\n",
    "    pass\n",
    "\n",
    "# scoring\n",
    "test = np.loadtxt('../data/sift-flow/'+target+'.txt', dtype=str)\n",
    "print datetime.now(), \"Running ...\"\n",
    "do_seg_tests(test, 'score_sem', 33)\n",
    "do_seg_tests(test, 'score_geo', 3)\n"
   ]
  },
  {
   "cell_type": "code",
   "execution_count": null,
   "metadata": {
    "collapsed": true
   },
   "outputs": [],
   "source": []
  }
 ],
 "metadata": {
  "kernelspec": {
   "display_name": "Python 2",
   "language": "python",
   "name": "python2"
  },
  "language_info": {
   "codemirror_mode": {
    "name": "ipython",
    "version": 2
   },
   "file_extension": ".py",
   "mimetype": "text/x-python",
   "name": "python",
   "nbconvert_exporter": "python",
   "pygments_lexer": "ipython2",
   "version": "2.7.6"
  }
 },
 "nbformat": 4,
 "nbformat_minor": 2
}
